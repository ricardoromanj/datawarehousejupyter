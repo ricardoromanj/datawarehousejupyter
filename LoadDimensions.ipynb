{
 "cells": [
  {
   "cell_type": "code",
   "execution_count": 43,
   "metadata": {},
   "outputs": [],
   "source": [
    "import pandas as pd\n",
    "import pyodbc\n",
    "from sqlalchemy import create_engine\n",
    "from sqlalchemy.types import String as sqlStr\n",
    "from pandas.io import sql\n",
    "\n",
    "from dischargerecord import DimDateRecord\n",
    "from dischargerecord import DimProviderRecord\n"
   ]
  },
  {
   "cell_type": "code",
   "execution_count": 44,
   "metadata": {},
   "outputs": [],
   "source": [
    "engine = create_engine('mssql://LAPTOP-TH3PDN0I/Group_8_DB?driver=ODBC+Driver+17+for+SQL+Server')"
   ]
  },
  {
   "cell_type": "code",
   "execution_count": 47,
   "metadata": {},
   "outputs": [
    {
     "name": "stdout",
     "output_type": "stream",
     "text": [
      "   DischargeYear\n",
      "0           2015\n"
     ]
    }
   ],
   "source": [
    "ddaterec = DimDateRecord()\n",
    "\n",
    "df = pd.read_csv('./dim_date.csv',\n",
    "                header=0,\n",
    "                names=ddaterec.get_column_names(),\n",
    "                dtype=ddaterec.get_column_types())\n",
    "\n",
    "print(df)\n",
    "\n",
    "sql.execute('delete from DimDate', engine)\n",
    "sql.execute('alter table FactDischarge drop constraint FK_FactDischarge_Date', engine)\n",
    "sql.execute('truncate table DimDate', engine)\n",
    "sql.execute('alter table FactDischarge add constraint FK_FactDischarge_Date foreign key (DateKey) references DimDate (DateKey)', engine)\n",
    "\n",
    "df.to_sql('DimDate', con=engine, if_exists='append', index=False)"
   ]
  },
  {
   "cell_type": "code",
   "execution_count": 46,
   "metadata": {},
   "outputs": [
    {
     "name": "stdout",
     "output_type": "stream",
     "text": [
      "   AttendingLicenseNo OperatingLicenseNo OtherLicenseNo\n",
      "0              267162                NaN            NaN\n",
      "1              275408                NaN            NaN\n",
      "2              271326                NaN            NaN\n",
      "3              243034                NaN            NaN\n",
      "4              147477                NaN            NaN\n",
      "5              269986                NaN            NaN\n",
      "6              270855                NaN            NaN\n",
      "7              247297                NaN            NaN\n",
      "8            40003545                NaN            NaN\n",
      "9              253732                NaN            NaN\n",
      "10             254778                NaN            NaN\n",
      "11             268543                NaN            NaN\n",
      "12             271780                NaN            NaN\n",
      "13             237483                NaN            NaN\n",
      "14           40003420                NaN            NaN\n",
      "15             279451                NaN            NaN\n",
      "16             271232                NaN            NaN\n",
      "17             281300                NaN            NaN\n",
      "18             253224             253224            NaN\n",
      "19             276100                NaN            NaN\n",
      "20             244296                NaN            NaN\n",
      "21             223318                NaN            NaN\n",
      "22           40004041                NaN            NaN\n",
      "23             267928                NaN            NaN\n",
      "24             234656                NaN            NaN\n",
      "25             270457                NaN            NaN\n",
      "26             154349             154349            NaN\n",
      "27             232292                NaN            NaN\n",
      "28             181939                NaN            NaN\n",
      "29             197614                NaN            NaN\n",
      "..                ...                ...            ...\n",
      "43             239618                NaN            NaN\n",
      "44             249112                NaN            NaN\n",
      "45             161806             161806            NaN\n",
      "46             248255                NaN            NaN\n",
      "47             270968                NaN            NaN\n",
      "48             163871                NaN            NaN\n",
      "49             237166                NaN            NaN\n",
      "50             137143                NaN            NaN\n",
      "51             266408                NaN            NaN\n",
      "52             274406                NaN            NaN\n",
      "53             222569                NaN            NaN\n",
      "54             159088                NaN            NaN\n",
      "55             267471                NaN            NaN\n",
      "56             265413                NaN            NaN\n",
      "57             210044                NaN            NaN\n",
      "58             229449           60000206            NaN\n",
      "59             229449             229449            NaN\n",
      "60             195197             195197            NaN\n",
      "61             161711                NaN            NaN\n",
      "62             206544                NaN            NaN\n",
      "63             234521                NaN            NaN\n",
      "64             126698                NaN            NaN\n",
      "65             229449             267669            NaN\n",
      "66             215603                NaN            NaN\n",
      "67             194347             194347            NaN\n",
      "68             131764                NaN            NaN\n",
      "69             241414                NaN            NaN\n",
      "70             229449             191190            NaN\n",
      "71             171291             190730            NaN\n",
      "72             229449                NaN            NaN\n",
      "\n",
      "[73 rows x 3 columns]\n"
     ]
    }
   ],
   "source": [
    "dprovrec = DimProviderRecord()\n",
    "\n",
    "df = pd.read_csv('./dim_provider.csv', \n",
    "                 header=0,\n",
    "                 names=dprovrec.get_column_names(),\n",
    "                 dtype=dprovrec.get_column_types())\n",
    "\n",
    "\n",
    "\n",
    "\n",
    "print(df)\n",
    "\n",
    "sql.execute('DELETE FROM DimProvider', engine)\n",
    "sql.execute('alter table FactDischarge drop constraint FK_FactDischarge_Provider', engine)\n",
    "sql.execute('truncate table DimProvider', engine)\n",
    "sql.execute('alter table FactDischarge add constraint FK_FactDischarge_Provider foreign key (ProviderKey) references DimProvider (ProviderKey)', engine)\n",
    "\n",
    "df.to_sql('DimProvider', con=engine, if_exists='append', index=False)\n"
   ]
  },
  {
   "cell_type": "code",
   "execution_count": null,
   "metadata": {},
   "outputs": [],
   "source": []
  },
  {
   "cell_type": "code",
   "execution_count": null,
   "metadata": {},
   "outputs": [],
   "source": []
  },
  {
   "cell_type": "code",
   "execution_count": null,
   "metadata": {},
   "outputs": [],
   "source": []
  }
 ],
 "metadata": {
  "kernelspec": {
   "display_name": "Python 3",
   "language": "python",
   "name": "python3"
  },
  "language_info": {
   "codemirror_mode": {
    "name": "ipython",
    "version": 3
   },
   "file_extension": ".py",
   "mimetype": "text/x-python",
   "name": "python",
   "nbconvert_exporter": "python",
   "pygments_lexer": "ipython3",
   "version": "3.6.5"
  }
 },
 "nbformat": 4,
 "nbformat_minor": 2
}
