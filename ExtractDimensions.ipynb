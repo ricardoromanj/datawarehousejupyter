{
 "cells": [
  {
   "cell_type": "code",
   "execution_count": 1,
   "metadata": {},
   "outputs": [],
   "source": [
    "import csv\n",
    "\n",
    "from dischargerecord import DimDateRecord\n",
    "from dischargerecord import DimProviderRecord"
   ]
  },
  {
   "cell_type": "code",
   "execution_count": 2,
   "metadata": {},
   "outputs": [
    {
     "name": "stdout",
     "output_type": "stream",
     "text": [
      "['2015']\n"
     ]
    }
   ],
   "source": [
    "unique_data_rows = []\n",
    "skip_first_row = True\n",
    "\n",
    "with open('./sample.csv', newline='') as csvfile:\n",
    "    rowreader = csv.reader(csvfile)\n",
    "    for row in rowreader:\n",
    "        daterow = DimDateRecord(row)\n",
    "        \n",
    "        if skip_first_row:\n",
    "            skip_first_row = False\n",
    "        else:\n",
    "            if daterow.get_row() in unique_data_rows:\n",
    "                pass\n",
    "            else:\n",
    "                unique_data_rows.append(daterow.get_row())\n",
    "        \n",
    "with open('./dim_date.csv', 'w', newline='') as csvfile:\n",
    "    rowwriter = csv.writer(csvfile)\n",
    "    rowwriter.writerow(DimDateRecord().get_column_names())\n",
    "    for row in unique_data_rows:\n",
    "        print(row)\n",
    "        rowwriter.writerow(row)"
   ]
  },
  {
   "cell_type": "code",
   "execution_count": 3,
   "metadata": {},
   "outputs": [
    {
     "name": "stdout",
     "output_type": "stream",
     "text": [
      "['267162', '', '']\n",
      "['275408', '', '']\n",
      "['271326', '', '']\n",
      "['243034', '', '']\n",
      "['147477', '', '']\n",
      "['269986', '', '']\n",
      "['270855', '', '']\n",
      "['247297', '', '']\n",
      "['40003545', '', '']\n",
      "['253732', '', '']\n",
      "['254778', '', '']\n",
      "['268543', '', '']\n",
      "['271780', '', '']\n",
      "['237483', '', '']\n",
      "['40003420', '', '']\n",
      "['279451', '', '']\n",
      "['271232', '', '']\n",
      "['281300', '', '']\n",
      "['253224', '253224', '']\n",
      "['276100', '', '']\n",
      "['244296', '', '']\n",
      "['223318', '', '']\n",
      "['40004041', '', '']\n",
      "['267928', '', '']\n",
      "['234656', '', '']\n",
      "['270457', '', '']\n",
      "['154349', '154349', '']\n",
      "['232292', '', '']\n",
      "['181939', '', '']\n",
      "['197614', '', '']\n",
      "['256853', '', '']\n",
      "['258238', '258238', '']\n",
      "['280355', '', '']\n",
      "['223318', '232292', '']\n",
      "['267529', '', '']\n",
      "['161363', '', '']\n",
      "['268127', '', '']\n",
      "['177863', '177863', '']\n",
      "['217872', '', '']\n",
      "['216591', '', '']\n",
      "['270932', '', '']\n",
      "['172763', '', '']\n",
      "['274330', '', '']\n",
      "['239618', '', '']\n",
      "['249112', '', '']\n",
      "['161806', '161806', '']\n",
      "['248255', '', '']\n",
      "['270968', '', '']\n",
      "['163871', '', '']\n",
      "['237166', '', '']\n",
      "['137143', '', '']\n",
      "['266408', '', '']\n",
      "['274406', '', '']\n",
      "['222569', '', '']\n",
      "['159088', '', '']\n",
      "['267471', '', '']\n",
      "['265413', '', '']\n",
      "['210044', '', '']\n",
      "['229449', '60000206', '']\n",
      "['229449', '229449', '']\n",
      "['195197', '195197', '']\n",
      "['161711', '', '']\n",
      "['206544', '', '']\n",
      "['234521', '', '']\n",
      "['126698', '', '']\n",
      "['229449', '267669', '']\n",
      "['215603', '', '']\n",
      "['194347', '194347', '']\n",
      "['131764', '', '']\n",
      "['241414', '', '']\n",
      "['229449', '191190', '']\n",
      "['171291', '190730', '']\n",
      "['229449', '', '']\n"
     ]
    }
   ],
   "source": [
    "\n",
    "\n",
    "unique_data_rows = []\n",
    "skip_first_row = True\n",
    "\n",
    "with open('./sample.csv', newline='') as csvfile:\n",
    "    rowreader = csv.reader(csvfile)\n",
    "    for row in rowreader:\n",
    "        provrow = DimProviderRecord(row)\n",
    "        \n",
    "        if skip_first_row:\n",
    "            skip_first_row = False\n",
    "        else:\n",
    "            if provrow.get_row() in unique_data_rows:\n",
    "                pass\n",
    "            else:\n",
    "                unique_data_rows.append(provrow.get_row())\n",
    "        \n",
    "with open('./dim_provider.csv', 'w', newline='') as csvfile:\n",
    "    rowwriter = csv.writer(csvfile)\n",
    "    rowwriter.writerow(DimProviderRecord().get_column_names())\n",
    "    for row in unique_data_rows:\n",
    "        print(row)\n",
    "        rowwriter.writerow(row)\n",
    "        "
   ]
  },
  {
   "cell_type": "code",
   "execution_count": null,
   "metadata": {},
   "outputs": [],
   "source": []
  },
  {
   "cell_type": "code",
   "execution_count": null,
   "metadata": {},
   "outputs": [],
   "source": []
  }
 ],
 "metadata": {
  "kernelspec": {
   "display_name": "Python 3",
   "language": "python",
   "name": "python3"
  },
  "language_info": {
   "codemirror_mode": {
    "name": "ipython",
    "version": 3
   },
   "file_extension": ".py",
   "mimetype": "text/x-python",
   "name": "python",
   "nbconvert_exporter": "python",
   "pygments_lexer": "ipython3",
   "version": "3.6.5"
  }
 },
 "nbformat": 4,
 "nbformat_minor": 2
}
