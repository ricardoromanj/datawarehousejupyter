{
 "cells": [
  {
   "cell_type": "code",
   "execution_count": 1,
   "metadata": {},
   "outputs": [],
   "source": [
    "import pandas as pd\n",
    "\n",
    "from sqlalchemy import create_engine\n",
    "\n",
    "from dischargerecord import DimProviderRecord\n",
    "from dischargerecord import DimDateRecord\n",
    "from dischargerecord import DimAdmissionRecord\n",
    "from dischargerecord import DimAPRClassificationRecord\n",
    "from dischargerecord import DimClinicClassRecord\n",
    "from dischargerecord import DimPaymentRecord\n",
    "from dischargerecord import DimDemographicsRecord\n",
    "from dischargerecord import DimLocationRecord\n"
   ]
  },
  {
   "cell_type": "code",
   "execution_count": 2,
   "metadata": {},
   "outputs": [],
   "source": [
    "# Connect to database\n",
    "engine = create_engine('mssql://LAPTOP-TH3PDN0I/Group_8_DB?driver=ODBC+Driver+17+for+SQL+Server')"
   ]
  },
  {
   "cell_type": "code",
   "execution_count": 3,
   "metadata": {},
   "outputs": [],
   "source": [
    "# Provider ETL\n",
    "\n",
    "# Read Original CSV file\n",
    "prov_df = pd.read_csv('./sample.csv',\n",
    "                 header=1,\n",
    "                 #nrows=10,\n",
    "                 usecols=DimProviderRecord().get_column_indeces(),\n",
    "                 names=DimProviderRecord().get_column_names(),\n",
    "                 dtype=DimProviderRecord().get_column_types())\n",
    "\n",
    "# Drop duplicate rows\n",
    "prov_df.drop_duplicates(inplace=True)\n",
    "\n",
    "# Load rows to database\n",
    "prov_df.to_csv('DimProvider.csv', index=False)\n",
    "prov_df.to_sql('DimProvider', con=engine, if_exists='append', index=False)"
   ]
  },
  {
   "cell_type": "code",
   "execution_count": 4,
   "metadata": {},
   "outputs": [],
   "source": [
    "# Date ETL\n",
    "\n",
    "# Read Original CSV file\n",
    "date_df = pd.read_csv('./sample.csv',\n",
    "                 header=1,\n",
    "                 usecols=DimDateRecord().get_column_indeces(),\n",
    "                 names=DimDateRecord().get_column_names(),\n",
    "                 dtype=DimDateRecord().get_column_types())\n",
    "\n",
    "# Drop duplicate rows\n",
    "date_df.drop_duplicates(inplace=True)\n",
    "\n",
    "# Load rows to database\n",
    "date_df.to_csv('DimDate.csv', index=False)\n",
    "date_df.to_sql('DimDate', con=engine, if_exists='append', index=False)"
   ]
  },
  {
   "cell_type": "code",
   "execution_count": 5,
   "metadata": {},
   "outputs": [],
   "source": [
    "# Admission ETL\n",
    "\n",
    "# Read Original CSV file\n",
    "admission_df = pd.read_csv('./sample.csv',\n",
    "                 header=1,\n",
    "                 #nrows=10,\n",
    "                 usecols=DimAdmissionRecord().get_column_indeces(),\n",
    "                 names=DimAdmissionRecord().get_column_names(),\n",
    "                 dtype=DimAdmissionRecord().get_column_types(),\n",
    "                 converters=DimAdmissionRecord().get_column_converters()\n",
    "                          )\n",
    "\n",
    "# Drop duplicate rows\n",
    "admission_df.drop_duplicates(inplace=True)\n",
    "\n",
    "# Load rows to database\n",
    "admission_df.to_csv('DimAdmission.csv', index=False)\n",
    "admission_df.to_sql('DimAdmission', con=engine, if_exists='append', index=False)"
   ]
  },
  {
   "cell_type": "code",
   "execution_count": 6,
   "metadata": {},
   "outputs": [],
   "source": [
    "# APR Classification ETL\n",
    "\n",
    "# Read Original CSV file\n",
    "apr_classification_df = pd.read_csv('./sample.csv',\n",
    "                 header=1,\n",
    "                 #nrows=10,\n",
    "                 usecols=DimAPRClassificationRecord().get_column_indeces(),\n",
    "                 names=DimAPRClassificationRecord().get_column_names(),\n",
    "                 dtype=DimAPRClassificationRecord().get_column_types())\n",
    "\n",
    "# Drop duplicate rows\n",
    "apr_classification_df.drop_duplicates(inplace=True)\n",
    "\n",
    "# Load rows to database\n",
    "apr_classification_df.to_csv('DimAPRClassification.csv', index=False)\n",
    "apr_classification_df.to_sql('DimAPRClassification', con=engine, if_exists='append', index=False)"
   ]
  },
  {
   "cell_type": "code",
   "execution_count": 7,
   "metadata": {},
   "outputs": [],
   "source": [
    "# Clinic Class ETL\n",
    "\n",
    "# Read Original CSV file\n",
    "clinic_class_df = pd.read_csv('./sample.csv',\n",
    "                 header=1,\n",
    "                 usecols=DimClinicClassRecord().get_column_indeces(),\n",
    "                 names=DimClinicClassRecord().get_column_names(),\n",
    "                 dtype=DimClinicClassRecord().get_column_types())\n",
    "\n",
    "# Drop duplicate rows\n",
    "clinic_class_df.drop_duplicates(inplace=True)\n",
    "\n",
    "# Load rows to database\n",
    "clinic_class_df.to_csv('DimClinicClass.csv', index=False)\n",
    "clinic_class_df.to_sql('DimClinicClass', con=engine, if_exists='append', index=False)"
   ]
  },
  {
   "cell_type": "code",
   "execution_count": 8,
   "metadata": {},
   "outputs": [],
   "source": [
    "# Payment ETL\n",
    "\n",
    "# Read Original CSV file\n",
    "payment_df = pd.read_csv('./sample.csv',\n",
    "                 header=1,\n",
    "                 usecols=DimPaymentRecord().get_column_indeces(),\n",
    "                 names=DimPaymentRecord().get_column_names(),\n",
    "                 dtype=DimPaymentRecord().get_column_types())\n",
    "\n",
    "# Drop duplicate rows\n",
    "payment_df.drop_duplicates(inplace=True)\n",
    "\n",
    "# Load rows to database\n",
    "payment_df.to_csv('DimPayment.csv', index=False)\n",
    "payment_df.to_sql('DimPayment', con=engine, if_exists='append', index=False)"
   ]
  },
  {
   "cell_type": "code",
   "execution_count": 9,
   "metadata": {},
   "outputs": [],
   "source": [
    "# Demograhpics ETL\n",
    "\n",
    "# Read Original CSV file\n",
    "demographics_df = pd.read_csv('./sample.csv',\n",
    "                 header=1,\n",
    "                 usecols=DimDemographicsRecord().get_column_indeces(),\n",
    "                 names=DimDemographicsRecord().get_column_names(),\n",
    "                 dtype=DimDemographicsRecord().get_column_types())\n",
    "\n",
    "# Drop duplicate rows\n",
    "demographics_df.drop_duplicates(inplace=True)\n",
    "\n",
    "# Load rows to database\n",
    "demographics_df.to_csv('DimDemographics.csv', index=False)\n",
    "demographics_df.to_sql('DimDemographics', con=engine, if_exists='append', index=False)"
   ]
  },
  {
   "cell_type": "code",
   "execution_count": 10,
   "metadata": {},
   "outputs": [],
   "source": [
    "# Location ETL\n",
    "\n",
    "# Read Original CSV file\n",
    "location_df = pd.read_csv('./sample.csv',\n",
    "                 header=1,\n",
    "                 usecols=DimLocationRecord().get_column_indeces(),\n",
    "                 names=DimLocationRecord().get_column_names(),\n",
    "                 dtype=DimLocationRecord().get_column_types(),\n",
    "                 converters=DimLocationRecord().get_column_converters()\n",
    "                         )\n",
    "\n",
    "# Drop duplicate rows\n",
    "location_df.drop_duplicates(inplace=True)\n",
    "\n",
    "# Load rows to database\n",
    "location_df.to_csv('DimLocation.csv', index=False)\n",
    "location_df.to_sql('DimLocation', con=engine, if_exists='append', index=False)"
   ]
  },
  {
   "cell_type": "code",
   "execution_count": null,
   "metadata": {},
   "outputs": [],
   "source": []
  }
 ],
 "metadata": {
  "kernelspec": {
   "display_name": "Python 3",
   "language": "python",
   "name": "python3"
  },
  "language_info": {
   "codemirror_mode": {
    "name": "ipython",
    "version": 3
   },
   "file_extension": ".py",
   "mimetype": "text/x-python",
   "name": "python",
   "nbconvert_exporter": "python",
   "pygments_lexer": "ipython3",
   "version": "3.6.5"
  }
 },
 "nbformat": 4,
 "nbformat_minor": 2
}
