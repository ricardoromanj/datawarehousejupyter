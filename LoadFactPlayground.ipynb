{
 "cells": [
  {
   "cell_type": "code",
   "execution_count": 1,
   "metadata": {},
   "outputs": [],
   "source": [
    "# The process will be this:\n",
    "# 1. Read all dimensions into pandas dfs\n",
    "# 2. Per record of the fact load, search in the dimension dataframes for the keys to apply\n",
    "# 3. write the values of these keys into a new dataframe that will be the final df load\n",
    "# 4. load adjusted dataframe to MSSQL"
   ]
  },
  {
   "cell_type": "code",
   "execution_count": 2,
   "metadata": {},
   "outputs": [],
   "source": [
    "import pandas as pd\n",
    "\n",
    "from sqlalchemy import create_engine\n",
    "\n",
    "from dischargerecord import FactDischarge"
   ]
  },
  {
   "cell_type": "code",
   "execution_count": 3,
   "metadata": {},
   "outputs": [],
   "source": [
    "# Connect to database\n",
    "engine = create_engine('mssql://LAPTOP-TH3PDN0I/Group_8_DB?driver=ODBC+Driver+17+for+SQL+Server')"
   ]
  },
  {
   "cell_type": "code",
   "execution_count": 4,
   "metadata": {},
   "outputs": [],
   "source": [
    "# Load Dimensions\n",
    "dim_date_df = pd.read_sql_table('DimDate', con=engine).fillna('')\n",
    "dim_location_df = pd.read_sql_table('DimLocation', con=engine).fillna('')\n",
    "dim_demographics_df = pd.read_sql_table('DimDemographics', con=engine).fillna('')\n",
    "dim_payment_df = pd.read_sql_table('DimPayment', con=engine).fillna('')\n",
    "dim_clinic_class_df = pd.read_sql_table('DimClinicClass', con=engine).fillna('')\n",
    "dim_apr_class_df = pd.read_sql_table('DimAPRClassification', con=engine).fillna('')\n",
    "dim_admission_df = pd.read_sql_table('DimAdmission', con=engine).fillna('')\n",
    "dim_provider_df = pd.read_sql_table('DimProvider', con=engine).fillna('')"
   ]
  },
  {
   "cell_type": "code",
   "execution_count": 5,
   "metadata": {},
   "outputs": [],
   "source": [
    "# Load facts from csv\n",
    "fact_discharge_df = pd.read_csv('./sample.csv', \n",
    "                                header=0,\n",
    "                                names=FactDischarge().get_column_names(),\n",
    "                                dtype=FactDischarge().get_column_types(),\n",
    "                                converters=FactDischarge().get_column_converters()\n",
    "                               )\n",
    "fact_discharge_df = fact_discharge_df.fillna('')\n",
    "#print(fact_discharge_df)"
   ]
  },
  {
   "cell_type": "code",
   "execution_count": 14,
   "metadata": {},
   "outputs": [],
   "source": [
    "# Iterate fact dataframe\n",
    "\n",
    "for fact in fact_discharge_df.itertuples():\n",
    "\n",
    "    # print(fact)\n",
    "    \n",
    "    fact_record = {}\n",
    "\n",
    "    fact_date_key = dim_date_df.loc[dim_date_df['DischargeYear'] == fact[14]]['DateKey'][0]\n",
    "    \n",
    "    fact_provider_key = dim_provider_df[\n",
    "        (dim_provider_df['AttendingLicenseNo'] == fact[30]) &\n",
    "        (dim_provider_df['OperatingLicenseNo'] == fact[31]) &\n",
    "        (dim_provider_df['OtherLicenseNo'] == fact [32])\n",
    "    ].iloc[0]['ProviderKey']\n",
    "    \n",
    "    fact_admission_key = dim_admission_df[\n",
    "        (dim_admission_df['TypeAdmission'] == fact[12]) &\n",
    "        (dim_admission_df['PatientDisposition'] == fact[13]) &\n",
    "        (dim_admission_df['AbortionIndicator'] == fact[34]) &\n",
    "        (dim_admission_df['EmergencyIndicator'] == fact[35])\n",
    "    ].iloc[0]['AdmissionKey']\n",
    "    \n",
    "    fact_apr_key = dim_apr_class_df[\n",
    "        (dim_apr_class_df['DrgCode'] == fact[19]) &\n",
    "        (dim_apr_class_df['MdcCode'] == fact[21]) &\n",
    "        (dim_apr_class_df['SeverityIllnessCode'] == fact[23]) &\n",
    "        (dim_apr_class_df['RiskOfMortality'] == fact[25])\n",
    "    ].iloc[0]['AprKey']\n",
    "    \n",
    "    fact_clinic_class_key = dim_clinic_class_df[\n",
    "        (dim_clinic_class_df['DiagnosisCode'] == fact[15]) &\n",
    "        (dim_clinic_class_df['ProcedureCode'] == fact[17])\n",
    "    ].iloc[0]['ClinicClassKey']\n",
    "    \n",
    "    fact_payment_key = dim_payment_df[\n",
    "        (dim_payment_df['PaymentTypology1'] == fact[27]) &\n",
    "        (dim_payment_df['PaymentTypology2'] == fact[28]) &\n",
    "        (dim_payment_df['PaymentTypology3'] == fact[29])\n",
    "    ].iloc[0]['PaymentKey']\n",
    "    \n",
    "    fact_demographics_key = dim_demographics_df[\n",
    "        (dim_demographics_df['AgeGroup'] == fact[6]) &\n",
    "        (dim_demographics_df['Gender'] == fact[8]) &\n",
    "        (dim_demographics_df['Race'] == fact[9]) &\n",
    "        (dim_demographics_df['Ethnicity'] == fact[10])\n",
    "    ].iloc[0]['DemographicsKey']\n",
    "    \n",
    "    fact_location_key = dim_location_df[\n",
    "        (dim_location_df['HealthServiceArea'] == fact[1]) &\n",
    "        (dim_location_df['HospitalCounty'] == fact[2]) &\n",
    "        (dim_location_df['FacilityID'] == fact[4]) &\n",
    "        (dim_location_df['ZipCode'] == fact[7])\n",
    "    ].iloc[0]['LocationKey']\n",
    "    \n",
    "    fact_record = {\n",
    "        'ProviderKey': fact_provider_key,\n",
    "        'DateKey': fact_date_key,\n",
    "        'AdmissionKey': fact_admission_key,\n",
    "        'AprKey': fact_apr_key,\n",
    "        'ClinicClassKey': fact_clinic_class_key,\n",
    "        'PaymentKey': fact_payment_key,\n",
    "        'DemographicsKey': fact_demographics_key,\n",
    "        'LocationKey': fact_location_key,\n",
    "        'BirthWeight': fact[33],\n",
    "        'LengthStay': fact[11],\n",
    "        'TotalCharges': fact[36],\n",
    "        'TotalCosts': fact[37]\n",
    "    }\n",
    "    \n",
    "    fact_record_df = pd.DataFrame(fact_record, index=[0])\n",
    "    # print(fact_record_df)\n",
    "    fact_record_df.to_sql('FactDischarge', if_exists='append', con=engine, index=False)\n",
    "    "
   ]
  },
  {
   "cell_type": "code",
   "execution_count": null,
   "metadata": {},
   "outputs": [],
   "source": [
    "print(dim_provider_df)"
   ]
  },
  {
   "cell_type": "code",
   "execution_count": null,
   "metadata": {},
   "outputs": [],
   "source": [
    "print(dim_clinic_class_df[\n",
    "    (dim_clinic_class_df['DiagnosisCode'] == 657) & \n",
    "    (dim_clinic_class_df['ProcedureCode'] == 0)\n",
    "].iloc[0]['ClinicClassKey'])"
   ]
  },
  {
   "cell_type": "code",
   "execution_count": null,
   "metadata": {},
   "outputs": [],
   "source": []
  }
 ],
 "metadata": {
  "kernelspec": {
   "display_name": "Python 3",
   "language": "python",
   "name": "python3"
  },
  "language_info": {
   "codemirror_mode": {
    "name": "ipython",
    "version": 3
   },
   "file_extension": ".py",
   "mimetype": "text/x-python",
   "name": "python",
   "nbconvert_exporter": "python",
   "pygments_lexer": "ipython3",
   "version": "3.6.5"
  }
 },
 "nbformat": 4,
 "nbformat_minor": 2
}
