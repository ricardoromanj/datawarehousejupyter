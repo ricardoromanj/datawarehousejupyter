{
 "cells": [
  {
   "cell_type": "code",
   "execution_count": null,
   "metadata": {},
   "outputs": [],
   "source": [
    "# The process will be this:\n",
    "# 1. Read all dimensions into pandas dfs\n",
    "# 2. Per record of the fact load, search in the dimension dataframes for the keys to apply\n",
    "# 3. write the values of these keys into a new dataframe that will be the final df load\n",
    "# 4. load adjusted dataframe to MSSQL"
   ]
  }
 ],
 "metadata": {
  "kernelspec": {
   "display_name": "Python 3",
   "language": "python",
   "name": "python3"
  },
  "language_info": {
   "codemirror_mode": {
    "name": "ipython",
    "version": 3
   },
   "file_extension": ".py",
   "mimetype": "text/x-python",
   "name": "python",
   "nbconvert_exporter": "python",
   "pygments_lexer": "ipython3",
   "version": "3.6.5"
  }
 },
 "nbformat": 4,
 "nbformat_minor": 2
}
